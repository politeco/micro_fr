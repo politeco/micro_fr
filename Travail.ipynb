{
  "nbformat": 4,
  "nbformat_minor": 2,
  "metadata": {
    "colab": {
      "name": "tax-example.ipynb",
      "provenance": [],
      "collapsed_sections": []
    },
    "kernelspec": {
      "name": "python3",
      "display_name": "Python 3"
    }
  },
  "cells": [
    {
      "cell_type": "code",
      "execution_count": 9,
      "source": [
        "import numpy as np \n",
        "from matplotlib import pyplot as plt"
      ],
      "outputs": [],
      "metadata": {
        "id": "CxFpiB6srdOF"
      }
    },
    {
      "cell_type": "markdown",
      "source": [
        "# Simulateur fiscal\n",
        "\n",
        "Le SRD est un simulateur fiscal qui peut être téléchargé facilement en utilisant l'outil pip, qui est pré-installé sous python. La documentation de cet outil se trouve sur le site suivant: [https://creei-models.github.io/srd/](https://creei-models.github.io/srd/).  On n'a qu'à lancer cette commande: \n"
      ],
      "metadata": {}
    },
    {
      "cell_type": "code",
      "execution_count": 10,
      "source": [
        "!pip install srd"
      ],
      "outputs": [
        {
          "output_type": "stream",
          "name": "stdout",
          "text": [
            "Defaulting to user installation because normal site-packages is not writeable\n",
            "Requirement already satisfied: srd in /Users/loulou/.local/lib/python3.8/site-packages (1.1.4)\n",
            "Requirement already satisfied: srpp in /Users/loulou/.local/lib/python3.8/site-packages (from srd) (0.5.2)\n",
            "Requirement already satisfied: xlrd in /Users/loulou/anaconda3/lib/python3.8/site-packages (from srd) (1.2.0)\n",
            "Requirement already satisfied: numba in /Users/loulou/anaconda3/lib/python3.8/site-packages (from srd) (0.51.2)\n",
            "Requirement already satisfied: pandas in /Users/loulou/anaconda3/lib/python3.8/site-packages (from srd) (1.1.3)\n",
            "Requirement already satisfied: numpy in /Users/loulou/anaconda3/lib/python3.8/site-packages (from srd) (1.19.2)\n",
            "Requirement already satisfied: setuptools in /Users/loulou/anaconda3/lib/python3.8/site-packages (from numba->srd) (50.3.1.post20201107)\n",
            "Requirement already satisfied: llvmlite<0.35,>=0.34.0.dev0 in /Users/loulou/anaconda3/lib/python3.8/site-packages (from numba->srd) (0.34.0)\n",
            "Requirement already satisfied: pytz>=2017.2 in /Users/loulou/anaconda3/lib/python3.8/site-packages (from pandas->srd) (2020.1)\n",
            "Requirement already satisfied: python-dateutil>=2.7.3 in /Users/loulou/anaconda3/lib/python3.8/site-packages (from pandas->srd) (2.8.1)\n",
            "Requirement already satisfied: six>=1.5 in /Users/loulou/anaconda3/lib/python3.8/site-packages (from python-dateutil>=2.7.3->pandas->srd) (1.15.0)\n"
          ]
        }
      ],
      "metadata": {
        "id": "uusn0OpjrfiP",
        "outputId": "a656a67e-af32-4890-e2fd-f24afd790fb7",
        "colab": {
          "base_uri": "https://localhost:8080/",
          "height": 167
        }
      }
    },
    {
      "cell_type": "markdown",
      "source": [
        "On importe le module avec "
      ],
      "metadata": {}
    },
    {
      "cell_type": "code",
      "execution_count": 11,
      "source": [
        "import srd"
      ],
      "outputs": [],
      "metadata": {
        "id": "-A1lVc98rk1m"
      }
    },
    {
      "cell_type": "markdown",
      "source": [
        "# Contrainte budgétaire\n",
        "\n",
        "Une des utilisations d'un simulateur fiscal est de tracer des contraintes budgétaires réelles. Le SRD compte plus de 90% des mesures fiscales fédérales et provinciales en plus des transferts d'aide sociale. Ici on regarde le cas d'un individu en 2019 qui gagne seulement 10 000$ en revenu de travail. "
      ],
      "metadata": {
        "id": "Ap1ZWyCIr4Np"
      }
    },
    {
      "cell_type": "code",
      "execution_count": 12,
      "source": [
        "jean = srd.Person(earn=10e3)\n",
        "case = srd.Hhold(jean)\n",
        "tax = srd.tax(2019)"
      ],
      "outputs": [],
      "metadata": {
        "id": "qzRYyIL3roWn"
      }
    },
    {
      "cell_type": "markdown",
      "source": [
        "On calcule ensuite son revenu disponible\n"
      ],
      "metadata": {}
    },
    {
      "cell_type": "code",
      "execution_count": 13,
      "source": [
        "case = tax.compute(case)"
      ],
      "outputs": [],
      "metadata": {
        "id": "tdshgphPruBJ"
      }
    },
    {
      "cell_type": "code",
      "execution_count": 14,
      "source": [
        "case.fam_disp_inc"
      ],
      "outputs": [
        {
          "output_type": "execute_result",
          "data": {
            "text/plain": [
              "14608.16"
            ]
          },
          "metadata": {},
          "execution_count": 14
        }
      ],
      "metadata": {
        "id": "rJpiKH3vsJQL",
        "outputId": "4bb3c035-145e-4c36-8772-c1f8477a9b99",
        "colab": {
          "base_uri": "https://localhost:8080/",
          "height": 33
        }
      }
    },
    {
      "cell_type": "markdown",
      "source": [
        "Après avoir calculé son revenu disponible, on voit que celui-ci est plus élevé que son revenu de travail. C'est parce qu'il reçoit divers transferts qui augmentent ses revenus. Maintenant, on regarde une contrainte budgétaire. \n"
      ],
      "metadata": {}
    },
    {
      "cell_type": "code",
      "execution_count": 15,
      "source": [
        "wage = 35.0\n",
        "hours = np.linspace(0,60,100)"
      ],
      "outputs": [],
      "metadata": {
        "id": "cBOWIjmDsOIL"
      }
    },
    {
      "cell_type": "code",
      "execution_count": 16,
      "source": [
        "netinc = []\n",
        "for h in hours: \n",
        "  jean = srd.Person(earn=wage*h*52)\n",
        "  case = srd.Hhold(jean)\n",
        "  case = tax.compute(case)\n",
        "  netinc.append(case.fam_disp_inc)\n"
      ],
      "outputs": [],
      "metadata": {
        "id": "e_qYwvrYsYes"
      }
    },
    {
      "cell_type": "markdown",
      "source": [
        "On calcule le loisir\n"
      ],
      "metadata": {}
    },
    {
      "cell_type": "code",
      "execution_count": 17,
      "source": [
        "leisure = 5*16 - hours"
      ],
      "outputs": [],
      "metadata": {
        "id": "VGSKoAK7tPJy"
      }
    },
    {
      "cell_type": "markdown",
      "source": [
        "On peut maintenant tracer la contrainte\n"
      ],
      "metadata": {}
    },
    {
      "cell_type": "code",
      "execution_count": 18,
      "source": [
        "plt.figure()\n",
        "plt.plot(leisure,netinc,label='contrainte')\n",
        "plt.plot(leisure,hours*wage*52,label='sans fiscalité')\n",
        "plt.xlabel('heures loisir (par semaine)')\n",
        "plt.ylabel('revenu annuel disponible')\n",
        "plt.ylim([0,max(netinc)])\n",
        "plt.legend()\n",
        "plt.show()"
      ],
      "outputs": [
        {
          "output_type": "display_data",
          "data": {
            "text/plain": [
              "<Figure size 432x288 with 1 Axes>"
            ],
            "image/png": "[encoded data removed]"
          },
          "metadata": {
            "needs_background": "light"
          }
        }
      ],
      "metadata": {
        "id": "2uLhaiq6su0Y",
        "outputId": "0350436e-c764-4223-c13c-635e9b89d5f9",
        "colab": {
          "base_uri": "https://localhost:8080/",
          "height": 278
        }
      }
    },
    {
      "cell_type": "markdown",
      "source": [
        "On voit que la fiscalité a deux effets pour ce cas-type: elle augmente d'abord le revenus quand la personne ne travaille pas. Ensuite, elle diminue le gain marginal de diminuer le loisir en terme de consommation. Donc, la contrainte pivote sur elle-même. \n"
      ],
      "metadata": {}
    },
    {
      "cell_type": "markdown",
      "source": [
        "# TEMI"
      ],
      "metadata": {
        "id": "ufBCD9LbuRqi"
      }
    },
    {
      "cell_type": "markdown",
      "source": [
        "On peut calculer le TEMI, le taux effectif marginal d'imposition en utilisant les calculs que nous venons de faire. "
      ],
      "metadata": {}
    },
    {
      "cell_type": "code",
      "execution_count": 19,
      "source": [
        "temis = []\n",
        "for i,h in enumerate(hours[:-1]): \n",
        "   x = 1.0 - (netinc[i+1] - netinc[i])/(wage*(hours[i+1]-hours[i])*52) \n",
        "   temis.append(x)"
      ],
      "outputs": [],
      "metadata": {
        "id": "LlDUXoBSuQxq"
      }
    },
    {
      "cell_type": "markdown",
      "source": [
        "On peut tracer le TEMI. On voit que le TEMI est très élevé pour un nombre d'heure de travail faible. \n"
      ],
      "metadata": {}
    },
    {
      "cell_type": "code",
      "execution_count": 20,
      "source": [
        "plt.figure()\n",
        "plt.plot(hours[:-1],temis,label='TEMI')\n",
        "plt.xlabel('heures travail (par semaine)')\n",
        "plt.ylabel('TEMI')\n",
        "plt.ylim([0,max(temis)])\n",
        "plt.legend()\n",
        "plt.show()"
      ],
      "outputs": [
        {
          "output_type": "display_data",
          "data": {
            "text/plain": [
              "<Figure size 432x288 with 1 Axes>"
            ],
            "image/png": "[encoded data removed]"
          },
          "metadata": {
            "needs_background": "light"
          }
        }
      ],
      "metadata": {
        "id": "iF-b6vtEvBF-",
        "outputId": "70523bd6-cdd5-4dfc-f606-c66b077dc522",
        "colab": {
          "base_uri": "https://localhost:8080/",
          "height": 281
        }
      }
    },
    {
      "cell_type": "markdown",
      "source": [
        "# Utilité et choix optimal\n",
        "\n",
        "On peut mettre en application ce que nous avons fait pour le choix optimal. La première étape est de définir la fonction d'utilité"
      ],
      "metadata": {
        "id": "Wk56YFkKwQ_n"
      }
    },
    {
      "cell_type": "code",
      "execution_count": 21,
      "source": [
        "def u(c,h,phi,eps):\n",
        "  g = 1 + + 1/eps\n",
        "  return c - phi*(h**g) / g"
      ],
      "outputs": [],
      "metadata": {
        "id": "HoiMQwwJv5-O"
      }
    },
    {
      "cell_type": "markdown",
      "source": [
        "On fixe ensuite les paramètres\n"
      ],
      "metadata": {}
    },
    {
      "cell_type": "code",
      "execution_count": 22,
      "source": [
        "eps = 1\n",
        "phi = 1e-2"
      ],
      "outputs": [],
      "metadata": {
        "id": "ccKe-9Tqw518"
      }
    },
    {
      "cell_type": "markdown",
      "source": [
        "On peut calculer l'utilité pour tous les choix d'heures de travail\n"
      ],
      "metadata": {}
    },
    {
      "cell_type": "code",
      "execution_count": 23,
      "source": [
        "us = [u(c,h,phi,eps) for c,h in zip(netinc,hours*52)]"
      ],
      "outputs": [],
      "metadata": {
        "id": "kgIMldHWwuhL"
      }
    },
    {
      "cell_type": "markdown",
      "source": [
        "On obtient alors la courbe d'utilité qui est globalement concave mais a certaines convexités. Il faut en effet faire attention en contexte de contrainte budgétaire réelle car celle-ci sont parfois convexe par rapport à l'origine. Quand ceci arrive, il se peut qu'on ait deux optimums locaux (deux points où le TMS est égal à la pente de la contrainte). Dans ces cas, il faut choisir l'optimum global (celui qui donne l'utilité la plus élevée). En optimisation, on fera attention pour utiliser un algorithme qui n'utilise pas d'information sur les dérivées, comme bisection ou une optimisation sur grille. \n"
      ],
      "metadata": {}
    },
    {
      "cell_type": "code",
      "execution_count": 24,
      "source": [
        "plt.figure()\n",
        "plt.plot(hours,us)\n",
        "plt.show()"
      ],
      "outputs": [
        {
          "output_type": "display_data",
          "data": {
            "text/plain": [
              "<Figure size 432x288 with 1 Axes>"
            ],
            "image/png": "[encoded data removed]"
          },
          "metadata": {
            "needs_background": "light"
          }
        }
      ],
      "metadata": {
        "id": "mFYruQk9w4xr",
        "outputId": "e1785f96-9469-4f48-a98a-73aff8e01253",
        "colab": {
          "base_uri": "https://localhost:8080/",
          "height": 267
        }
      }
    },
    {
      "cell_type": "markdown",
      "source": [
        "On obtient donc simplement le choix optimal en prenant le maximum sur notre grille"
      ],
      "metadata": {}
    },
    {
      "cell_type": "code",
      "execution_count": 25,
      "source": [
        "hopt = hours[np.argmax(us)]"
      ],
      "outputs": [],
      "metadata": {
        "id": "PENs0L97w_ac"
      }
    },
    {
      "cell_type": "markdown",
      "source": [
        "Ce qui donne"
      ],
      "metadata": {}
    },
    {
      "cell_type": "code",
      "execution_count": 27,
      "source": [
        "hopt"
      ],
      "outputs": [
        {
          "output_type": "execute_result",
          "data": {
            "text/plain": [
              "42.42424242424242"
            ]
          },
          "metadata": {},
          "execution_count": 27
        }
      ],
      "metadata": {
        "id": "7d1OEwTPyptz",
        "outputId": "d122ce90-187f-40bf-9ae5-5eb0c0333a9f",
        "colab": {
          "base_uri": "https://localhost:8080/",
          "height": 33
        }
      }
    },
    {
      "cell_type": "markdown",
      "source": [
        "# Offre de travail\n",
        "\n",
        "Maintenant qu'on sait comment faire le choix optimal, on peut tracer la courbe d'offre de travail"
      ],
      "metadata": {
        "id": "GkWVpbNR00J-"
      }
    },
    {
      "cell_type": "code",
      "execution_count": 28,
      "source": [
        "def supply(phi,eps,wage,tax):\n",
        "  hours = np.linspace(0.0,80.0)\n",
        "  netinc = []\n",
        "  for h in hours: \n",
        "    p = srd.Person(earn=wage*h*52)\n",
        "    case = srd.Hhold(p)\n",
        "    case = tax.compute(case)\n",
        "    netinc.append(case.fam_disp_inc)  \n",
        "  us = [u(c,h,phi,eps) for c,h in zip(netinc,hours*52)]\n",
        "  hopt = hours[np.argmax(us)]\n",
        "  return hopt"
      ],
      "outputs": [],
      "metadata": {
        "id": "pj6BYyb-yqm8"
      }
    },
    {
      "cell_type": "code",
      "execution_count": 29,
      "source": [
        "wages = np.linspace(13.1,50.0,100)\n",
        "sc = [supply(1e-2,1.0,w,tax) for w in wages]"
      ],
      "outputs": [],
      "metadata": {
        "id": "vi2stHzN0AQF"
      }
    },
    {
      "cell_type": "markdown",
      "source": [
        "On obtient une courbe d'offre avec des sauts, ce qui est en parti dû aux changements brusques de TEMI mais aussi au fait que nous faisons une optimisation sur une grille. La courbe a une pente positive ce qui signifie que l'effet substitution domine l'effet revenu pour ces préférences. \n"
      ],
      "metadata": {}
    },
    {
      "cell_type": "code",
      "execution_count": 30,
      "source": [
        "plt.figure()\n",
        "plt.plot(wages,sc)\n",
        "plt.xlabel('heures travaillées')\n",
        "plt.ylabel('salaire horaire')\n",
        "plt.show()"
      ],
      "outputs": [
        {
          "output_type": "display_data",
          "data": {
            "text/plain": [
              "<Figure size 432x288 with 1 Axes>"
            ],
            "image/png": "[encoded data removed]"
          },
          "metadata": {
            "needs_background": "light"
          }
        }
      ],
      "metadata": {
        "id": "00ruIKXB0Pj0",
        "outputId": "80cebdf4-7ece-458e-bbb6-eda86817266c",
        "colab": {
          "base_uri": "https://localhost:8080/",
          "height": 278
        }
      }
    },
    {
      "cell_type": "markdown",
      "source": [
        "# Changer de taux d'imposition\n",
        "\n",
        "On peut changer le taux d'imposition du travailleur pour simuler les effets sur l'offre de travail"
      ],
      "metadata": {
        "id": "8FSXkPfb1oYi"
      }
    },
    {
      "cell_type": "code",
      "execution_count": 31,
      "source": [
        "tax2 = srd.tax(year=2019)"
      ],
      "outputs": [],
      "metadata": {
        "id": "HwhqyNdK1nVR"
      }
    },
    {
      "cell_type": "code",
      "execution_count": 32,
      "source": [
        "tax2.federal.l_rates = [t*1.25 for t in tax2.federal.l_rates]"
      ],
      "outputs": [],
      "metadata": {
        "id": "yxymk2Sa18XK"
      }
    },
    {
      "cell_type": "code",
      "execution_count": 33,
      "source": [
        "tax2.federal.l_rates"
      ],
      "outputs": [
        {
          "output_type": "execute_result",
          "data": {
            "text/plain": [
              "[0.1875, 0.25625, 0.325, 0.3625, 0.41250000000000003]"
            ]
          },
          "metadata": {},
          "execution_count": 33
        }
      ],
      "metadata": {
        "id": "2ip6rGkn2zDb",
        "outputId": "5997209b-dcd2-45b8-b2dc-01e371c9298b",
        "colab": {
          "base_uri": "https://localhost:8080/",
          "height": 33
        }
      }
    },
    {
      "cell_type": "code",
      "execution_count": 34,
      "source": [
        "href = supply(1e-2,1.0,wage,tax)\n",
        "htax = supply(1e-2,1.0,wage,tax2)"
      ],
      "outputs": [],
      "metadata": {
        "id": "tA2J95cY2J71"
      }
    },
    {
      "cell_type": "markdown",
      "source": [
        "On voit que l'offre de travail diminue d'environ 3 heures par semaines. "
      ],
      "metadata": {}
    },
    {
      "cell_type": "code",
      "execution_count": 35,
      "source": [
        "href,htax"
      ],
      "outputs": [
        {
          "output_type": "execute_result",
          "data": {
            "text/plain": [
              "(42.44897959183673, 39.183673469387756)"
            ]
          },
          "metadata": {},
          "execution_count": 35
        }
      ],
      "metadata": {
        "id": "ax-yBxCB2Rss",
        "outputId": "5fd49797-891f-4ccf-ce95-05c1c6f08110",
        "colab": {
          "base_uri": "https://localhost:8080/",
          "height": 33
        }
      }
    },
    {
      "cell_type": "markdown",
      "source": [
        "L'élasticité pour ce changement est de -0.3. Ce genre de paramètre est très utile pour déterminer les effets d'un changement d'imposition sur le travail et aussi les revenus d'impôt générés par la hausse. \n"
      ],
      "metadata": {}
    },
    {
      "cell_type": "code",
      "execution_count": 36,
      "source": [
        "eta = (htax/href-1)/0.25"
      ],
      "outputs": [],
      "metadata": {
        "id": "So287nu42htc"
      }
    },
    {
      "cell_type": "code",
      "execution_count": 37,
      "source": [
        "eta"
      ],
      "outputs": [
        {
          "output_type": "execute_result",
          "data": {
            "text/plain": [
              "-0.3076923076923075"
            ]
          },
          "metadata": {},
          "execution_count": 37
        }
      ],
      "metadata": {
        "id": "uF9waUd96fSs",
        "outputId": "4a86f8ce-fb31-4e06-917b-8205b0ffa3de",
        "colab": {
          "base_uri": "https://localhost:8080/",
          "height": 33
        }
      }
    },
    {
      "cell_type": "code",
      "execution_count": null,
      "source": [],
      "outputs": [],
      "metadata": {
        "id": "DnNV1-AwNHTS"
      }
    }
  ]
}